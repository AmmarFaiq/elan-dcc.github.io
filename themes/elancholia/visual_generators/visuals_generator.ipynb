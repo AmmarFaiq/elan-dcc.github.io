{
 "cells": [
  {
   "cell_type": "markdown",
   "id": "13a88530-d4da-488b-ad76-4a10482087ab",
   "metadata": {},
   "source": [
    "Hello!\n",
    "\n",
    "Up-to-date geographical data of the Dutch municipalities and neighbourhoods (\"Wijk- en buurtkaart\" can be retrieved from: https://www.cbs.nl/nl-nl/dossier/nederland-regionaal/geografische-data\n",
    "\n",
    "You go Glen Coco!\n"
   ]
  },
  {
   "cell_type": "code",
   "execution_count": 1,
   "id": "db365921-a205-4364-97e7-3a7331b8538a",
   "metadata": {},
   "outputs": [],
   "source": [
    "import pandas as pd\n",
    "import geopandas as gpd\n",
    "import matplotlib.pyplot as plt\n",
    "import random\n",
    "import lisualisation as lis\n",
    "destination = \"../layouts/partials/svgs/elan_map_raw.svg\""
   ]
  },
  {
   "cell_type": "code",
   "execution_count": 2,
   "id": "833eab4e-6934-4c6c-99bc-8c9052aa930c",
   "metadata": {},
   "outputs": [],
   "source": [
    "colours = [\"#e70777\", \"#00b0f0\", \"#7030a0\", \"#9895BC\", \"#9895BC\", \"#9895BC\", \"#9895BC\" ,\"#9895BC\"]"
   ]
  },
  {
   "cell_type": "code",
   "execution_count": 3,
   "id": "ba4f0538-0da2-4fd1-bbdc-05191e26b0a4",
   "metadata": {},
   "outputs": [],
   "source": [
    "df = gpd.read_file(\"wijkbuurtkaart_2023_v1/gemeenten_2023_v1.shp\")\n",
    "df = df[df.H2O == \"NEE\"]\n",
    "gemeentecodes = pd.read_excel(\"elan_classification.xlsx\", sheet_name=None)"
   ]
  },
  {
   "cell_type": "code",
   "execution_count": 4,
   "id": "48db29d2-59e0-438d-9724-07d6a6c45cb3",
   "metadata": {},
   "outputs": [
    {
     "data": {
      "text/html": [
       "<div>\n",
       "<style scoped>\n",
       "    .dataframe tbody tr th:only-of-type {\n",
       "        vertical-align: middle;\n",
       "    }\n",
       "\n",
       "    .dataframe tbody tr th {\n",
       "        vertical-align: top;\n",
       "    }\n",
       "\n",
       "    .dataframe thead th {\n",
       "        text-align: right;\n",
       "    }\n",
       "</style>\n",
       "<table border=\"1\" class=\"dataframe\">\n",
       "  <thead>\n",
       "    <tr style=\"text-align: right;\">\n",
       "      <th></th>\n",
       "      <th>Naam</th>\n",
       "      <th>gm_code</th>\n",
       "      <th>class</th>\n",
       "      <th>comment</th>\n",
       "    </tr>\n",
       "  </thead>\n",
       "  <tbody>\n",
       "    <tr>\n",
       "      <th>0</th>\n",
       "      <td>Noordwijk</td>\n",
       "      <td>GM0575</td>\n",
       "      <td>1</td>\n",
       "      <td>NaN</td>\n",
       "    </tr>\n",
       "    <tr>\n",
       "      <th>1</th>\n",
       "      <td>Katwijk</td>\n",
       "      <td>GM0537</td>\n",
       "      <td>1</td>\n",
       "      <td>NaN</td>\n",
       "    </tr>\n",
       "    <tr>\n",
       "      <th>2</th>\n",
       "      <td>Hillegom</td>\n",
       "      <td>GM0534</td>\n",
       "      <td>1</td>\n",
       "      <td>NaN</td>\n",
       "    </tr>\n",
       "    <tr>\n",
       "      <th>3</th>\n",
       "      <td>Lisse</td>\n",
       "      <td>GM0553</td>\n",
       "      <td>1</td>\n",
       "      <td>NaN</td>\n",
       "    </tr>\n",
       "    <tr>\n",
       "      <th>4</th>\n",
       "      <td>Teylingen</td>\n",
       "      <td>GM1525</td>\n",
       "      <td>1</td>\n",
       "      <td>NaN</td>\n",
       "    </tr>\n",
       "    <tr>\n",
       "      <th>5</th>\n",
       "      <td>Leiden</td>\n",
       "      <td>GM0546</td>\n",
       "      <td>1</td>\n",
       "      <td>NaN</td>\n",
       "    </tr>\n",
       "    <tr>\n",
       "      <th>6</th>\n",
       "      <td>Voorschoten</td>\n",
       "      <td>GM0626</td>\n",
       "      <td>1</td>\n",
       "      <td>NaN</td>\n",
       "    </tr>\n",
       "    <tr>\n",
       "      <th>7</th>\n",
       "      <td>Zoeterwoude</td>\n",
       "      <td>GM0638</td>\n",
       "      <td>1</td>\n",
       "      <td>NaN</td>\n",
       "    </tr>\n",
       "    <tr>\n",
       "      <th>8</th>\n",
       "      <td>Kraag en Braassem</td>\n",
       "      <td>GM1884</td>\n",
       "      <td>1</td>\n",
       "      <td>NaN</td>\n",
       "    </tr>\n",
       "    <tr>\n",
       "      <th>9</th>\n",
       "      <td>Alphen aan den Rijn</td>\n",
       "      <td>GM0484</td>\n",
       "      <td>1</td>\n",
       "      <td>NaN</td>\n",
       "    </tr>\n",
       "    <tr>\n",
       "      <th>10</th>\n",
       "      <td>Nieuwkoop</td>\n",
       "      <td>GM0569</td>\n",
       "      <td>1</td>\n",
       "      <td>NaN</td>\n",
       "    </tr>\n",
       "    <tr>\n",
       "      <th>11</th>\n",
       "      <td>Waddinxveen</td>\n",
       "      <td>GM0627</td>\n",
       "      <td>1</td>\n",
       "      <td>NaN</td>\n",
       "    </tr>\n",
       "    <tr>\n",
       "      <th>12</th>\n",
       "      <td>Bodegraven-Reeuwijk</td>\n",
       "      <td>GM1901</td>\n",
       "      <td>1</td>\n",
       "      <td>NaN</td>\n",
       "    </tr>\n",
       "    <tr>\n",
       "      <th>13</th>\n",
       "      <td>Zoetermeer</td>\n",
       "      <td>GM0637</td>\n",
       "      <td>3</td>\n",
       "      <td>NaN</td>\n",
       "    </tr>\n",
       "    <tr>\n",
       "      <th>14</th>\n",
       "      <td>Wassenaar</td>\n",
       "      <td>GM0629</td>\n",
       "      <td>2</td>\n",
       "      <td>NaN</td>\n",
       "    </tr>\n",
       "    <tr>\n",
       "      <th>15</th>\n",
       "      <td>'s-Gravenhage</td>\n",
       "      <td>GM0518</td>\n",
       "      <td>2</td>\n",
       "      <td>NaN</td>\n",
       "    </tr>\n",
       "    <tr>\n",
       "      <th>16</th>\n",
       "      <td>Rijswijk</td>\n",
       "      <td>GM0603</td>\n",
       "      <td>2</td>\n",
       "      <td>NaN</td>\n",
       "    </tr>\n",
       "    <tr>\n",
       "      <th>17</th>\n",
       "      <td>Leidschendam-Voorburg</td>\n",
       "      <td>GM1916</td>\n",
       "      <td>2</td>\n",
       "      <td>NaN</td>\n",
       "    </tr>\n",
       "    <tr>\n",
       "      <th>18</th>\n",
       "      <td>Oegstgeest</td>\n",
       "      <td>GM0579</td>\n",
       "      <td>1</td>\n",
       "      <td>aanname</td>\n",
       "    </tr>\n",
       "    <tr>\n",
       "      <th>19</th>\n",
       "      <td>Leiderdorp</td>\n",
       "      <td>GM0547</td>\n",
       "      <td>1</td>\n",
       "      <td>aanname</td>\n",
       "    </tr>\n",
       "  </tbody>\n",
       "</table>\n",
       "</div>"
      ],
      "text/plain": [
       "                     Naam gm_code  class  comment\n",
       "0               Noordwijk  GM0575      1      NaN\n",
       "1                 Katwijk  GM0537      1      NaN\n",
       "2                Hillegom  GM0534      1      NaN\n",
       "3                   Lisse  GM0553      1      NaN\n",
       "4               Teylingen  GM1525      1      NaN\n",
       "5                  Leiden  GM0546      1      NaN\n",
       "6             Voorschoten  GM0626      1      NaN\n",
       "7             Zoeterwoude  GM0638      1      NaN\n",
       "8       Kraag en Braassem  GM1884      1      NaN\n",
       "9     Alphen aan den Rijn  GM0484      1      NaN\n",
       "10              Nieuwkoop  GM0569      1      NaN\n",
       "11            Waddinxveen  GM0627      1      NaN\n",
       "12    Bodegraven-Reeuwijk  GM1901      1      NaN\n",
       "13             Zoetermeer  GM0637      3      NaN\n",
       "14              Wassenaar  GM0629      2      NaN\n",
       "15          's-Gravenhage  GM0518      2      NaN\n",
       "16               Rijswijk  GM0603      2      NaN\n",
       "17  Leidschendam-Voorburg  GM1916      2      NaN\n",
       "18             Oegstgeest  GM0579      1  aanname\n",
       "19             Leiderdorp  GM0547      1  aanname"
      ]
     },
     "execution_count": 4,
     "metadata": {},
     "output_type": "execute_result"
    }
   ],
   "source": [
    "gemeentecodes[\"classification\"]"
   ]
  },
  {
   "cell_type": "markdown",
   "id": "41983870-c805-4580-9962-66fcb8a27afd",
   "metadata": {},
   "source": [
    "Include sexy colors"
   ]
  },
  {
   "cell_type": "code",
   "execution_count": 5,
   "id": "5db96987-ba42-48d2-a5e2-ed40a8a1572e",
   "metadata": {},
   "outputs": [],
   "source": [
    "def sexy_color_generator(amount):\n",
    "    return [\"#\"+''.join([random.choice('0123456789ABCDEF') for j in range(6)]) for i in range(amount)]\n",
    "\n",
    "gemeentecodes[\"classification\"][\"color\"] = sexy_color_generator(gemeentecodes[\"classification\"].shape[0])"
   ]
  },
  {
   "cell_type": "markdown",
   "id": "8344d7f3-3f36-4b0c-a19a-ce05c331cdfd",
   "metadata": {},
   "source": [
    "Get geometries of ELAN municipalities"
   ]
  },
  {
   "cell_type": "code",
   "execution_count": 6,
   "id": "6fe56ced-e405-4899-8231-553041142c57",
   "metadata": {},
   "outputs": [],
   "source": [
    "elan = gemeentecodes[\"classification\"].merge(df, left_on=\"gm_code\", right_on=\"GM_CODE\")\n",
    "elan = gpd.GeoDataFrame(elan)"
   ]
  },
  {
   "cell_type": "markdown",
   "id": "47e2d574-28ec-4a7a-922e-dbb8889ebac1",
   "metadata": {},
   "source": [
    "Get geometries of province"
   ]
  },
  {
   "cell_type": "code",
   "execution_count": 7,
   "id": "600fbe03-6de1-4d61-8ff6-fad7e9d73535",
   "metadata": {},
   "outputs": [],
   "source": [
    "provincedf = pd.read_excel(\"Gemeenten alfabetisch 2023.xlsx\")\n",
    "provincedf = provincedf[provincedf.ProvinciecodePV == \"PV28\"]\n",
    "province = df[df.GM_CODE.isin(provincedf.GemeentecodeGM)]"
   ]
  },
  {
   "cell_type": "markdown",
   "id": "d05b80ce-39bb-4524-8657-6ddc6dc3d8af",
   "metadata": {},
   "source": [
    "Generate background"
   ]
  },
  {
   "cell_type": "code",
   "execution_count": 8,
   "id": "bf5098e3-d921-4b5d-b5d4-7dbaf55c10d3",
   "metadata": {},
   "outputs": [],
   "source": [
    "background = elan.dissolve(by='class', aggfunc = 'sum')\n",
    "# background[\"color\"] = background.index\n",
    "# background[\"color\"].replace(sexy_colors, inplace=True)\n",
    "background[\"color\"] = sexy_color_generator(background.shape[0])"
   ]
  },
  {
   "cell_type": "markdown",
   "id": "c77f820c-01f1-479e-b010-3ed75a97efc8",
   "metadata": {},
   "source": [
    "Create visual"
   ]
  },
  {
   "cell_type": "code",
   "execution_count": 9,
   "id": "4214acee-d7be-404d-9ce6-d212458143c3",
   "metadata": {},
   "outputs": [
    {
     "data": {
      "image/png": "[encoded data removed]",
      "text/plain": [
       "<Figure size 1000x1000 with 1 Axes>"
      ]
     },
     "metadata": {},
     "output_type": "display_data"
    }
   ],
   "source": [
    "fig, ax = plt.subplots(figsize=(10, 10))\n",
    "\n",
    "#province.plot(ax=ax, color='#ffffff', edgecolor='#001157', linewidth=1)\n",
    "background.plot(ax=ax, color=background[\"color\"], linewidth=0)\n",
    "elan.plot(ax=ax, color=elan[\"color\"], linewidth=0)\n",
    "\n",
    "_=ax.axis('off')\n",
    "#plt.show()\n",
    "plt.tight_layout(pad=0, w_pad=0, h_pad=0)\n",
    "plt.savefig(destination, dpi=300, format=\"svg\", transparent=True, bbox_inches= 'tight', pad_inches = 0)"
   ]
  },
  {
   "cell_type": "markdown",
   "id": "8467615f-f75b-4eb6-b101-db8bb9667a11",
   "metadata": {},
   "source": [
    "Assign all the paths in the generated svg image the aprropriate class to enable interaction and animation. We use the colors to match up the geometry and the right class. We also include style attributes and make it interactive."
   ]
  },
  {
   "cell_type": "code",
   "execution_count": 10,
   "id": "ae902261-f455-4d39-800d-d224046c423d",
   "metadata": {},
   "outputs": [],
   "source": [
    "background[\"myclass\"] = \"region\"+ background.index.astype(str)\n",
    "elan[\"myclass\"] = elan.Naam\n",
    "combi_df = pd.concat([background, elan])"
   ]
  },
  {
   "cell_type": "code",
   "execution_count": 11,
   "id": "d10de81b-e57d-488f-8470-d64de9e9aba4",
   "metadata": {},
   "outputs": [],
   "source": [
    "css= r'''\n",
    "    .category1, .region1{\n",
    "        fill: #e70777;\n",
    "    }\n",
    "    \n",
    "    .category2, .region2{\n",
    "        fill: #00b0f0;\n",
    "    }\n",
    "\n",
    "    .category3, .region3{\n",
    "        fill: #7030a0;\n",
    "    }\n",
    "\n",
    "    svg{\n",
    "        font-family: \"Open Sans\", sans-serif;\n",
    "        font-size: 30px;\n",
    "    }\n",
    "\n",
    "    .circle_stat{\n",
    "        transform-box: fill-box;\n",
    "        transform-origin: center;\n",
    "        transform: rotate(-90deg);\n",
    "    }\n",
    "\n",
    "    .stat_title{\n",
    "        font-weight: bold;\n",
    "        fill: #786ebd;\n",
    "    }\n",
    "    \n",
    "    .category1:hover, .category2:hover, .category3:hover{\n",
    "        filter: brightness(1.25);\n",
    "    }\n",
    "\n",
    "    .hover_text{\n",
    "        font-size: 0.9em;\n",
    "        fill: #6a6874;\n",
    "    }\n",
    "    \n",
    "    .hover_bar{\n",
    "        fill: #FFFFFF;\n",
    "    }\n",
    "\n",
    "    .hover_container_hidden{\n",
    "        display: none;\n",
    "    }\n",
    "    '''"
   ]
  },
  {
   "cell_type": "markdown",
   "id": "f07d7efc-fd8c-45ef-976b-ea1fc7e61f3b",
   "metadata": {},
   "source": [
    "`//<![CDATA[` and `//]]>` are required since that allows for proper parsing"
   ]
  },
  {
   "cell_type": "code",
   "execution_count": 12,
   "id": "29ab78cd-4720-4693-8df9-e7d4109004e1",
   "metadata": {},
   "outputs": [],
   "source": [
    "js = r\"\"\"\n",
    "<script type=\"text/javascript\">   \n",
    "//<![CDATA[    \n",
    "    cat_names = [\"1\", \"2\", \"3\"];\n",
    "    cats = cat_names.map(cat => document.getElementsByClassName(\"category\" + cat));\n",
    "    regs = cat_names.map(cat => document.getElementById(\"hover_container_\" + cat));\n",
    "    hovers = cat_names.map(cat => document.getElementById(\"hover_text_\" + cat));\n",
    "\n",
    "    for(let j = 0; j < cat_names.length; j++) {\n",
    "        for(let i = 0; i < cats[j].length; i++) {\n",
    "            cats[j][i].onmouseleave = function(){\n",
    "                regs[j].classList.add('hover_container_hidden');\n",
    "                hovers[j].children[0].textContent = '';\n",
    "                hovers[j].children[1].textContent = '';\n",
    "            };\n",
    "            \n",
    "            cats[j][i].onmouseover = function(){\n",
    "                hovers[j].children[0].textContent = 'Municipality: ';\n",
    "                console.log(\"AAAAAAAAA\");\n",
    "                console.log(cats[j][i].getAttribute('data-name'));\n",
    "                hovers[j].children[1].textContent = cats[j][i].getAttribute('data-name');\n",
    "                regs[j].classList.remove('hover_container_hidden');\n",
    "            };\n",
    "        };\n",
    "    };    \n",
    "        \n",
    "    //]]>\n",
    "</script>   \n",
    "\"\"\""
   ]
  },
  {
   "cell_type": "markdown",
   "id": "fc28b10e-d9cd-4d60-95cb-700b150d1187",
   "metadata": {},
   "source": [
    "Hoverinfo for les regions"
   ]
  },
  {
   "cell_type": "code",
   "execution_count": 13,
   "id": "f5a50b99-f916-4766-af55-6b30cf450246",
   "metadata": {},
   "outputs": [],
   "source": [
    "stats = gemeentecodes[\"stats\"]\n",
    "stats_2024 = stats[stats[\"year\"] == 2024].copy()"
   ]
  },
  {
   "cell_type": "code",
   "execution_count": 14,
   "id": "9c4189de-bc3f-4b4d-8d6e-e8893c6dab22",
   "metadata": {},
   "outputs": [],
   "source": [
    "practices = stats_2024.sort_values(\"region\")[\"practices\"].tolist()\n",
    "patients = stats_2024.sort_values(\"region\")[\"patients\"].tolist()"
   ]
  },
  {
   "cell_type": "code",
   "execution_count": 15,
   "id": "b0d82611-0971-4483-a597-2f6272db5e3a",
   "metadata": {},
   "outputs": [],
   "source": [
    "hover_regions =\"<g>\"\n",
    "#pink, blue, purple\n",
    "x = [410, 315, 385]\n",
    "y = [90, 300, 420]\n",
    "hover_width = 320\n",
    "x_text_l_margin = 5\n",
    "hover_height = 80\n",
    "\n",
    "for i in range(3):\n",
    "    hover_regions += rf'''\n",
    "        <g id=\"hover_container_{i+1}\" class=\"hover_container_hidden\">\n",
    "            <rect class=\"hover_bar\" x=\"{x[i]}\" width=\"{hover_width}\" y=\"{y[i]}\" height=\"{hover_height}\" rx=\"15\" />\n",
    "            <text id=\"hover_text_{i+1}\" class=\"hover_text\" x=\"{x[i]}\" y=\"{y[i]}\" text-anchor=\"left\" dy=\".3em\"><tspan x=\"{x[i] + x_text_l_margin}\" dy=\"1.2em\"></tspan><tspan x=\"{x[i] + x_text_l_margin}\" dy=\"1.2em\"></tspan></text>\n",
    "        </g>\n",
    "    '''\n",
    "hover_regions += \"</g>\""
   ]
  },
  {
   "cell_type": "code",
   "execution_count": 16,
   "id": "1d87dd27-ddc0-417a-a7d9-d091167e9e50",
   "metadata": {},
   "outputs": [],
   "source": [
    "with open(destination, 'r') as file:\n",
    "    # read a list of lines into data\n",
    "    lines = file.readlines()\n",
    "\n",
    "lines = lines[3:]\n",
    "\n",
    "lines[0] = '''<svg xmlns:xlink=\"http://www.w3.org/1999/xlink\" class=\"{{ .class }}\" viewBox=\"0 0 720 528.173872\" xmlns=\"http://www.w3.org/2000/svg\" version=\"1.1\">'''\n",
    "\n",
    "munic_colors = elan[\"color\"].tolist()\n",
    "\n",
    "for i in range(0, len(lines)):\n",
    "    line = lines[i]\n",
    "    if (\"fill\" in line) and (\"path\" in line):\n",
    "        line_split = line.split('style=\"fill: ', 1)\n",
    "        color = line_split[1][:7].upper()\n",
    "        entry = combi_df[combi_df.color == color]\n",
    "        my_class = entry[\"myclass\"].item()\n",
    "        if color in munic_colors:\n",
    "            #class holds a lot of classes, data-name is the name of the municipality\n",
    "            my_class += \" municipality category\" + str(int(entry[\"class\"].item())) + '\" data-name=\"' + my_class\n",
    "        lines[i] = line_split[0] + 'class=\"' + my_class + '\"/>'\n",
    "    elif \"</style>\" in line: #add css\n",
    "        line_split = line.split('</style>', 1)\n",
    "        lines[i] = line_split[0] + css + \"</style>\"\n",
    "    elif \"</svg>\" in line: # add hover feature\n",
    "        lines[i] = hover_regions + js + line\n",
    "\n",
    "with open(\"../layouts/partials/svgs/elan_map.svg\", 'w') as file:\n",
    "    file.writelines(lines)"
   ]
  },
  {
   "cell_type": "markdown",
   "id": "c523a2a7-744b-40a4-9649-a68fdb306aaf",
   "metadata": {},
   "source": [
    "to generate circles"
   ]
  },
  {
   "cell_type": "code",
   "execution_count": 17,
   "id": "7b5ad0c9-297b-43f7-8dde-05e191c7d78a",
   "metadata": {},
   "outputs": [],
   "source": [
    "lis.make_sexy_circle(stats_2024[\"patients\"].tolist(), colours, \"../layouts/partials/svgs/patients.svg\")\n",
    "lis.make_sexy_circle(stats_2024[\"practices\"].tolist(), colours, \"../layouts/partials/svgs/practices.svg\")"
   ]
  },
  {
   "cell_type": "code",
   "execution_count": null,
   "id": "5f019691-c7d1-427a-9158-400d419f38f2",
   "metadata": {},
   "outputs": [],
   "source": []
  }
 ],
 "metadata": {
  "kernelspec": {
   "display_name": "Python 3 (ipykernel)",
   "language": "python",
   "name": "python3"
  },
  "language_info": {
   "codemirror_mode": {
    "name": "ipython",
    "version": 3
   },
   "file_extension": ".py",
   "mimetype": "text/x-python",
   "name": "python",
   "nbconvert_exporter": "python",
   "pygments_lexer": "ipython3",
   "version": "3.12.2"
  }
 },
 "nbformat": 4,
 "nbformat_minor": 5
}
